{
 "cells": [
  {
   "cell_type": "code",
   "execution_count": 1,
   "id": "aa82fbbb",
   "metadata": {},
   "outputs": [],
   "source": [
    "import pandas as pd "
   ]
  },
  {
   "cell_type": "code",
   "execution_count": 2,
   "id": "f3cda8b8",
   "metadata": {},
   "outputs": [],
   "source": [
    "pip install snscrape"
   ]
  },
  {
   "cell_type": "code",
   "execution_count": 3,
   "id": "dc9484a5",
   "metadata": {},
   "outputs": [],
   "source": [
    "import snscrape.modules.twitter as sntwitter"
   ]
  },
  {
   "cell_type": "code",
   "execution_count": 4,
   "id": "8882aa78",
   "metadata": {},
   "outputs": [],
   "source": [
    "tweets = []\n",
    "for i,tweet in enumerate(sntwitter.TwitterSearchScraper(\"Trump\").get_items()):\n",
    "   if i > 10000:\n",
    "       break \n",
    "   tweets.append([tweet.date, tweet.id, tweet.content, tweet.username])"
   ]
  },
  {
   "cell_type": "code",
   "execution_count": 5,
   "id": "e25d3726",
   "metadata": {},
   "outputs": [],
   "source": [
    "df = pd.DataFrame(tweets,columns = [\"date\", \"tweet_id\", \"text\", \"username\"])"
   ]
  },
  {
   "cell_type": "code",
   "execution_count": 6,
   "id": "62dfc03e",
   "metadata": {},
   "outputs": [],
   "source": [
    "df"
   ]
  },
  {
   "cell_type": "code",
   "execution_count": 7,
   "id": "61c1c232",
   "metadata": {},
   "outputs": [],
   "source": [
    "df.to_csv(\"twitter_trump.csv\")"
   ]
  },
  {
   "cell_type": "code",
   "execution_count": 8,
   "id": "2471de66",
   "metadata": {},
   "outputs": [],
   "source": [
    "df = pd.read_csv(\"twitter_trump.csv\")"
   ]
  },
  {
   "cell_type": "code",
   "execution_count": 9,
   "id": "fd48b1b0",
   "metadata": {},
   "outputs": [
    {
     "name": "stdout",
     "output_type": "stream",
     "text": [
      "Requirement already satisfied: langdetect in c:\\users\\user\\anaconda3\\envs\\env_full\\lib\\site-packages (1.0.9)\n",
      "Requirement already satisfied: six in c:\\users\\user\\anaconda3\\envs\\env_full\\lib\\site-packages (from langdetect) (1.16.0)\n",
      "Note: you may need to restart the kernel to use updated packages.\n"
     ]
    }
   ],
   "source": [
    "pip install langdetect"
   ]
  },
  {
   "cell_type": "code",
   "execution_count": 10,
   "id": "ee803fe4",
   "metadata": {},
   "outputs": [],
   "source": [
    "from langdetect import detect"
   ]
  },
  {
   "cell_type": "code",
   "execution_count": 11,
   "id": "a9f16dd9",
   "metadata": {},
   "outputs": [],
   "source": [
    "dfn = df[df[\"text\"].apply(detect) == \"en\"]"
   ]
  },
  {
   "cell_type": "code",
   "execution_count": 12,
   "id": "39ba4319",
   "metadata": {},
   "outputs": [],
   "source": [
    "txt = dfn[[\"text\"]]"
   ]
  },
  {
   "cell_type": "code",
   "execution_count": 13,
   "id": "b476c97a",
   "metadata": {},
   "outputs": [
    {
     "data": {
      "text/html": [
       "<div>\n",
       "<style scoped>\n",
       "    .dataframe tbody tr th:only-of-type {\n",
       "        vertical-align: middle;\n",
       "    }\n",
       "\n",
       "    .dataframe tbody tr th {\n",
       "        vertical-align: top;\n",
       "    }\n",
       "\n",
       "    .dataframe thead th {\n",
       "        text-align: right;\n",
       "    }\n",
       "</style>\n",
       "<table border=\"1\" class=\"dataframe\">\n",
       "  <thead>\n",
       "    <tr style=\"text-align: right;\">\n",
       "      <th></th>\n",
       "      <th>text</th>\n",
       "    </tr>\n",
       "  </thead>\n",
       "  <tbody>\n",
       "    <tr>\n",
       "      <th>0</th>\n",
       "      <td>@Michael_USA20 Trump got so much of the stuff ...</td>\n",
       "    </tr>\n",
       "    <tr>\n",
       "      <th>1</th>\n",
       "      <td>@atensnut Never Pence. Trump!</td>\n",
       "    </tr>\n",
       "    <tr>\n",
       "      <th>2</th>\n",
       "      <td>@RepThomasMassie Trump's balls just shrivelled...</td>\n",
       "    </tr>\n",
       "    <tr>\n",
       "      <th>4</th>\n",
       "      <td>@ann_tressler @ckenchington @ladbible Try it y...</td>\n",
       "    </tr>\n",
       "    <tr>\n",
       "      <th>5</th>\n",
       "      <td>@marklevinshow Amazing how MAGA doesn't care T...</td>\n",
       "    </tr>\n",
       "    <tr>\n",
       "      <th>...</th>\n",
       "      <td>...</td>\n",
       "    </tr>\n",
       "    <tr>\n",
       "      <th>9995</th>\n",
       "      <td>RICO Case For Trump May Be A Little Less Unlik...</td>\n",
       "    </tr>\n",
       "    <tr>\n",
       "      <th>9996</th>\n",
       "      <td>@PapiTrumpo Yes, I cannot wait, I’ll be so hap...</td>\n",
       "    </tr>\n",
       "    <tr>\n",
       "      <th>9998</th>\n",
       "      <td>@RepTroyNehls But a husband is independent of ...</td>\n",
       "    </tr>\n",
       "    <tr>\n",
       "      <th>9999</th>\n",
       "      <td>@patriotmary4 All he wants to do is keep Trump...</td>\n",
       "    </tr>\n",
       "    <tr>\n",
       "      <th>10000</th>\n",
       "      <td>@LeagueTruth @AtticusGF Also, by relying on Iv...</td>\n",
       "    </tr>\n",
       "  </tbody>\n",
       "</table>\n",
       "<p>9376 rows × 1 columns</p>\n",
       "</div>"
      ],
      "text/plain": [
       "                                                    text\n",
       "0      @Michael_USA20 Trump got so much of the stuff ...\n",
       "1                          @atensnut Never Pence. Trump!\n",
       "2      @RepThomasMassie Trump's balls just shrivelled...\n",
       "4      @ann_tressler @ckenchington @ladbible Try it y...\n",
       "5      @marklevinshow Amazing how MAGA doesn't care T...\n",
       "...                                                  ...\n",
       "9995   RICO Case For Trump May Be A Little Less Unlik...\n",
       "9996   @PapiTrumpo Yes, I cannot wait, I’ll be so hap...\n",
       "9998   @RepTroyNehls But a husband is independent of ...\n",
       "9999   @patriotmary4 All he wants to do is keep Trump...\n",
       "10000  @LeagueTruth @AtticusGF Also, by relying on Iv...\n",
       "\n",
       "[9376 rows x 1 columns]"
      ]
     },
     "execution_count": 13,
     "metadata": {},
     "output_type": "execute_result"
    }
   ],
   "source": [
    "txt"
   ]
  },
  {
   "cell_type": "code",
   "execution_count": 14,
   "id": "242f7446",
   "metadata": {},
   "outputs": [
    {
     "data": {
      "text/plain": [
       "19"
      ]
     },
     "execution_count": 14,
     "metadata": {},
     "output_type": "execute_result"
    }
   ],
   "source": [
    "txt[\"text\"].duplicated().sum()"
   ]
  },
  {
   "cell_type": "code",
   "execution_count": 15,
   "id": "796fb147",
   "metadata": {},
   "outputs": [
    {
     "name": "stderr",
     "output_type": "stream",
     "text": [
      "C:\\Users\\User\\AppData\\Local\\Temp\\ipykernel_10588\\289562441.py:1: SettingWithCopyWarning: \n",
      "A value is trying to be set on a copy of a slice from a DataFrame\n",
      "\n",
      "See the caveats in the documentation: https://pandas.pydata.org/pandas-docs/stable/user_guide/indexing.html#returning-a-view-versus-a-copy\n",
      "  txt.drop_duplicates(subset = \"text\", inplace = True)    # deleting duplicated tweets\n"
     ]
    }
   ],
   "source": [
    "txt.drop_duplicates(subset = \"text\", inplace = True)    # deleting duplicated tweets "
   ]
  },
  {
   "cell_type": "code",
   "execution_count": 16,
   "id": "429bb2b8",
   "metadata": {},
   "outputs": [
    {
     "data": {
      "text/html": [
       "<div>\n",
       "<style scoped>\n",
       "    .dataframe tbody tr th:only-of-type {\n",
       "        vertical-align: middle;\n",
       "    }\n",
       "\n",
       "    .dataframe tbody tr th {\n",
       "        vertical-align: top;\n",
       "    }\n",
       "\n",
       "    .dataframe thead th {\n",
       "        text-align: right;\n",
       "    }\n",
       "</style>\n",
       "<table border=\"1\" class=\"dataframe\">\n",
       "  <thead>\n",
       "    <tr style=\"text-align: right;\">\n",
       "      <th></th>\n",
       "      <th>text</th>\n",
       "    </tr>\n",
       "  </thead>\n",
       "  <tbody>\n",
       "    <tr>\n",
       "      <th>0</th>\n",
       "      <td>@Michael_USA20 Trump got so much of the stuff ...</td>\n",
       "    </tr>\n",
       "    <tr>\n",
       "      <th>1</th>\n",
       "      <td>@atensnut Never Pence. Trump!</td>\n",
       "    </tr>\n",
       "    <tr>\n",
       "      <th>2</th>\n",
       "      <td>@RepThomasMassie Trump's balls just shrivelled...</td>\n",
       "    </tr>\n",
       "    <tr>\n",
       "      <th>4</th>\n",
       "      <td>@ann_tressler @ckenchington @ladbible Try it y...</td>\n",
       "    </tr>\n",
       "    <tr>\n",
       "      <th>5</th>\n",
       "      <td>@marklevinshow Amazing how MAGA doesn't care T...</td>\n",
       "    </tr>\n",
       "    <tr>\n",
       "      <th>...</th>\n",
       "      <td>...</td>\n",
       "    </tr>\n",
       "    <tr>\n",
       "      <th>9995</th>\n",
       "      <td>RICO Case For Trump May Be A Little Less Unlik...</td>\n",
       "    </tr>\n",
       "    <tr>\n",
       "      <th>9996</th>\n",
       "      <td>@PapiTrumpo Yes, I cannot wait, I’ll be so hap...</td>\n",
       "    </tr>\n",
       "    <tr>\n",
       "      <th>9998</th>\n",
       "      <td>@RepTroyNehls But a husband is independent of ...</td>\n",
       "    </tr>\n",
       "    <tr>\n",
       "      <th>9999</th>\n",
       "      <td>@patriotmary4 All he wants to do is keep Trump...</td>\n",
       "    </tr>\n",
       "    <tr>\n",
       "      <th>10000</th>\n",
       "      <td>@LeagueTruth @AtticusGF Also, by relying on Iv...</td>\n",
       "    </tr>\n",
       "  </tbody>\n",
       "</table>\n",
       "<p>9357 rows × 1 columns</p>\n",
       "</div>"
      ],
      "text/plain": [
       "                                                    text\n",
       "0      @Michael_USA20 Trump got so much of the stuff ...\n",
       "1                          @atensnut Never Pence. Trump!\n",
       "2      @RepThomasMassie Trump's balls just shrivelled...\n",
       "4      @ann_tressler @ckenchington @ladbible Try it y...\n",
       "5      @marklevinshow Amazing how MAGA doesn't care T...\n",
       "...                                                  ...\n",
       "9995   RICO Case For Trump May Be A Little Less Unlik...\n",
       "9996   @PapiTrumpo Yes, I cannot wait, I’ll be so hap...\n",
       "9998   @RepTroyNehls But a husband is independent of ...\n",
       "9999   @patriotmary4 All he wants to do is keep Trump...\n",
       "10000  @LeagueTruth @AtticusGF Also, by relying on Iv...\n",
       "\n",
       "[9357 rows x 1 columns]"
      ]
     },
     "execution_count": 16,
     "metadata": {},
     "output_type": "execute_result"
    }
   ],
   "source": [
    "txt"
   ]
  },
  {
   "cell_type": "code",
   "execution_count": 17,
   "id": "bd5f928d",
   "metadata": {},
   "outputs": [
    {
     "name": "stderr",
     "output_type": "stream",
     "text": [
      "C:\\Users\\User\\AppData\\Local\\Temp\\ipykernel_10588\\3279767695.py:1: FutureWarning: The default value of regex will change from True to False in a future version.\n",
      "  txt[\"text\"] = txt[\"text\"].str.replace(\"[^\\w\\s]\", \"\")    # Noktalama işaretlerini kaldırır.\n",
      "C:\\Users\\User\\AppData\\Local\\Temp\\ipykernel_10588\\3279767695.py:1: SettingWithCopyWarning: \n",
      "A value is trying to be set on a copy of a slice from a DataFrame.\n",
      "Try using .loc[row_indexer,col_indexer] = value instead\n",
      "\n",
      "See the caveats in the documentation: https://pandas.pydata.org/pandas-docs/stable/user_guide/indexing.html#returning-a-view-versus-a-copy\n",
      "  txt[\"text\"] = txt[\"text\"].str.replace(\"[^\\w\\s]\", \"\")    # Noktalama işaretlerini kaldırır.\n",
      "C:\\Users\\User\\AppData\\Local\\Temp\\ipykernel_10588\\3279767695.py:2: FutureWarning: The default value of regex will change from True to False in a future version.\n",
      "  txt[\"text\"] = txt[\"text\"].str.replace(\"\\d+\", \"\")        # Rakamları kaldırır\n",
      "C:\\Users\\User\\AppData\\Local\\Temp\\ipykernel_10588\\3279767695.py:2: SettingWithCopyWarning: \n",
      "A value is trying to be set on a copy of a slice from a DataFrame.\n",
      "Try using .loc[row_indexer,col_indexer] = value instead\n",
      "\n",
      "See the caveats in the documentation: https://pandas.pydata.org/pandas-docs/stable/user_guide/indexing.html#returning-a-view-versus-a-copy\n",
      "  txt[\"text\"] = txt[\"text\"].str.replace(\"\\d+\", \"\")        # Rakamları kaldırır\n",
      "C:\\Users\\User\\AppData\\Local\\Temp\\ipykernel_10588\\3279767695.py:3: SettingWithCopyWarning: \n",
      "A value is trying to be set on a copy of a slice from a DataFrame.\n",
      "Try using .loc[row_indexer,col_indexer] = value instead\n",
      "\n",
      "See the caveats in the documentation: https://pandas.pydata.org/pandas-docs/stable/user_guide/indexing.html#returning-a-view-versus-a-copy\n",
      "  txt[\"text\"] = txt[\"text\"].str.replace(\"\\n\", \"\")         # yeni satırları kaldırır.\n",
      "C:\\Users\\User\\AppData\\Local\\Temp\\ipykernel_10588\\3279767695.py:4: SettingWithCopyWarning: \n",
      "A value is trying to be set on a copy of a slice from a DataFrame.\n",
      "Try using .loc[row_indexer,col_indexer] = value instead\n",
      "\n",
      "See the caveats in the documentation: https://pandas.pydata.org/pandas-docs/stable/user_guide/indexing.html#returning-a-view-versus-a-copy\n",
      "  txt[\"text\"] = txt[\"text\"].str.replace(\"\\r\", \"\")         # Enter i kaldırır.\n"
     ]
    }
   ],
   "source": [
    "txt[\"text\"] = txt[\"text\"].str.replace(\"[^\\w\\s]\", \"\")    \n",
    "txt[\"text\"] = txt[\"text\"].str.replace(\"\\d+\", \"\")       \n",
    "txt[\"text\"] = txt[\"text\"].str.replace(\"\\n\", \"\")       \n",
    "txt[\"text\"] = txt[\"text\"].str.replace(\"\\r\", \"\")       "
   ]
  },
  {
   "cell_type": "code",
   "execution_count": 18,
   "id": "4e190c27",
   "metadata": {},
   "outputs": [
    {
     "data": {
      "text/html": [
       "<div>\n",
       "<style scoped>\n",
       "    .dataframe tbody tr th:only-of-type {\n",
       "        vertical-align: middle;\n",
       "    }\n",
       "\n",
       "    .dataframe tbody tr th {\n",
       "        vertical-align: top;\n",
       "    }\n",
       "\n",
       "    .dataframe thead th {\n",
       "        text-align: right;\n",
       "    }\n",
       "</style>\n",
       "<table border=\"1\" class=\"dataframe\">\n",
       "  <thead>\n",
       "    <tr style=\"text-align: right;\">\n",
       "      <th></th>\n",
       "      <th>text</th>\n",
       "    </tr>\n",
       "  </thead>\n",
       "  <tbody>\n",
       "    <tr>\n",
       "      <th>0</th>\n",
       "      <td>Michael_USA Trump got so much of the stuff don...</td>\n",
       "    </tr>\n",
       "    <tr>\n",
       "      <th>1</th>\n",
       "      <td>atensnut Never Pence Trump</td>\n",
       "    </tr>\n",
       "    <tr>\n",
       "      <th>2</th>\n",
       "      <td>RepThomasMassie Trumps balls just shrivelled u...</td>\n",
       "    </tr>\n",
       "    <tr>\n",
       "      <th>4</th>\n",
       "      <td>ann_tressler ckenchington ladbible Try it you ...</td>\n",
       "    </tr>\n",
       "    <tr>\n",
       "      <th>5</th>\n",
       "      <td>marklevinshow Amazing how MAGA doesnt care Tru...</td>\n",
       "    </tr>\n",
       "    <tr>\n",
       "      <th>...</th>\n",
       "      <td>...</td>\n",
       "    </tr>\n",
       "    <tr>\n",
       "      <th>9995</th>\n",
       "      <td>RICO Case For Trump May Be A Little Less Unlik...</td>\n",
       "    </tr>\n",
       "    <tr>\n",
       "      <th>9996</th>\n",
       "      <td>PapiTrumpo Yes I cannot wait Ill be so happy T...</td>\n",
       "    </tr>\n",
       "    <tr>\n",
       "      <th>9998</th>\n",
       "      <td>RepTroyNehls But a husband is independent of h...</td>\n",
       "    </tr>\n",
       "    <tr>\n",
       "      <th>9999</th>\n",
       "      <td>patriotmary All he wants to do is keep Trump out</td>\n",
       "    </tr>\n",
       "    <tr>\n",
       "      <th>10000</th>\n",
       "      <td>LeagueTruth AtticusGF Also by relying on Ivank...</td>\n",
       "    </tr>\n",
       "  </tbody>\n",
       "</table>\n",
       "<p>9357 rows × 1 columns</p>\n",
       "</div>"
      ],
      "text/plain": [
       "                                                    text\n",
       "0      Michael_USA Trump got so much of the stuff don...\n",
       "1                             atensnut Never Pence Trump\n",
       "2      RepThomasMassie Trumps balls just shrivelled u...\n",
       "4      ann_tressler ckenchington ladbible Try it you ...\n",
       "5      marklevinshow Amazing how MAGA doesnt care Tru...\n",
       "...                                                  ...\n",
       "9995   RICO Case For Trump May Be A Little Less Unlik...\n",
       "9996   PapiTrumpo Yes I cannot wait Ill be so happy T...\n",
       "9998   RepTroyNehls But a husband is independent of h...\n",
       "9999    patriotmary All he wants to do is keep Trump out\n",
       "10000  LeagueTruth AtticusGF Also by relying on Ivank...\n",
       "\n",
       "[9357 rows x 1 columns]"
      ]
     },
     "execution_count": 18,
     "metadata": {},
     "output_type": "execute_result"
    }
   ],
   "source": [
    "txt"
   ]
  },
  {
   "cell_type": "code",
   "execution_count": 19,
   "id": "d28c5c03",
   "metadata": {},
   "outputs": [
    {
     "name": "stderr",
     "output_type": "stream",
     "text": [
      "C:\\Users\\User\\AppData\\Local\\Temp\\ipykernel_10588\\1355706280.py:1: SettingWithCopyWarning: \n",
      "A value is trying to be set on a copy of a slice from a DataFrame.\n",
      "Try using .loc[row_indexer,col_indexer] = value instead\n",
      "\n",
      "See the caveats in the documentation: https://pandas.pydata.org/pandas-docs/stable/user_guide/indexing.html#returning-a-view-versus-a-copy\n",
      "  txt[\"text\"] = txt[\"text\"].str.lower()\n"
     ]
    }
   ],
   "source": [
    "txt[\"text\"] = txt[\"text\"].str.lower()"
   ]
  },
  {
   "cell_type": "code",
   "execution_count": 20,
   "id": "8ff1791a",
   "metadata": {},
   "outputs": [
    {
     "data": {
      "text/html": [
       "<div>\n",
       "<style scoped>\n",
       "    .dataframe tbody tr th:only-of-type {\n",
       "        vertical-align: middle;\n",
       "    }\n",
       "\n",
       "    .dataframe tbody tr th {\n",
       "        vertical-align: top;\n",
       "    }\n",
       "\n",
       "    .dataframe thead th {\n",
       "        text-align: right;\n",
       "    }\n",
       "</style>\n",
       "<table border=\"1\" class=\"dataframe\">\n",
       "  <thead>\n",
       "    <tr style=\"text-align: right;\">\n",
       "      <th></th>\n",
       "      <th>text</th>\n",
       "    </tr>\n",
       "  </thead>\n",
       "  <tbody>\n",
       "    <tr>\n",
       "      <th>0</th>\n",
       "      <td>michael_usa trump got so much of the stuff don...</td>\n",
       "    </tr>\n",
       "    <tr>\n",
       "      <th>1</th>\n",
       "      <td>atensnut never pence trump</td>\n",
       "    </tr>\n",
       "    <tr>\n",
       "      <th>2</th>\n",
       "      <td>repthomasmassie trumps balls just shrivelled u...</td>\n",
       "    </tr>\n",
       "    <tr>\n",
       "      <th>4</th>\n",
       "      <td>ann_tressler ckenchington ladbible try it you ...</td>\n",
       "    </tr>\n",
       "    <tr>\n",
       "      <th>5</th>\n",
       "      <td>marklevinshow amazing how maga doesnt care tru...</td>\n",
       "    </tr>\n",
       "    <tr>\n",
       "      <th>...</th>\n",
       "      <td>...</td>\n",
       "    </tr>\n",
       "    <tr>\n",
       "      <th>9995</th>\n",
       "      <td>rico case for trump may be a little less unlik...</td>\n",
       "    </tr>\n",
       "    <tr>\n",
       "      <th>9996</th>\n",
       "      <td>papitrumpo yes i cannot wait ill be so happy t...</td>\n",
       "    </tr>\n",
       "    <tr>\n",
       "      <th>9998</th>\n",
       "      <td>reptroynehls but a husband is independent of h...</td>\n",
       "    </tr>\n",
       "    <tr>\n",
       "      <th>9999</th>\n",
       "      <td>patriotmary all he wants to do is keep trump out</td>\n",
       "    </tr>\n",
       "    <tr>\n",
       "      <th>10000</th>\n",
       "      <td>leaguetruth atticusgf also by relying on ivank...</td>\n",
       "    </tr>\n",
       "  </tbody>\n",
       "</table>\n",
       "<p>9357 rows × 1 columns</p>\n",
       "</div>"
      ],
      "text/plain": [
       "                                                    text\n",
       "0      michael_usa trump got so much of the stuff don...\n",
       "1                             atensnut never pence trump\n",
       "2      repthomasmassie trumps balls just shrivelled u...\n",
       "4      ann_tressler ckenchington ladbible try it you ...\n",
       "5      marklevinshow amazing how maga doesnt care tru...\n",
       "...                                                  ...\n",
       "9995   rico case for trump may be a little less unlik...\n",
       "9996   papitrumpo yes i cannot wait ill be so happy t...\n",
       "9998   reptroynehls but a husband is independent of h...\n",
       "9999    patriotmary all he wants to do is keep trump out\n",
       "10000  leaguetruth atticusgf also by relying on ivank...\n",
       "\n",
       "[9357 rows x 1 columns]"
      ]
     },
     "execution_count": 20,
     "metadata": {},
     "output_type": "execute_result"
    }
   ],
   "source": [
    "txt"
   ]
  },
  {
   "cell_type": "code",
   "execution_count": 23,
   "id": "f0f2ecd0",
   "metadata": {},
   "outputs": [
    {
     "data": {
      "text/html": [
       "<div>\n",
       "<style scoped>\n",
       "    .dataframe tbody tr th:only-of-type {\n",
       "        vertical-align: middle;\n",
       "    }\n",
       "\n",
       "    .dataframe tbody tr th {\n",
       "        vertical-align: top;\n",
       "    }\n",
       "\n",
       "    .dataframe thead th {\n",
       "        text-align: right;\n",
       "    }\n",
       "</style>\n",
       "<table border=\"1\" class=\"dataframe\">\n",
       "  <thead>\n",
       "    <tr style=\"text-align: right;\">\n",
       "      <th></th>\n",
       "      <th>text</th>\n",
       "    </tr>\n",
       "  </thead>\n",
       "  <tbody>\n",
       "    <tr>\n",
       "      <th>0</th>\n",
       "      <td>michael_usa trump got so much of the stuff don...</td>\n",
       "    </tr>\n",
       "    <tr>\n",
       "      <th>1</th>\n",
       "      <td>atensnut never pence trump</td>\n",
       "    </tr>\n",
       "    <tr>\n",
       "      <th>2</th>\n",
       "      <td>repthomasmassie trumps balls just shrivelled u...</td>\n",
       "    </tr>\n",
       "    <tr>\n",
       "      <th>4</th>\n",
       "      <td>ann_tressler ckenchington ladbible try it you ...</td>\n",
       "    </tr>\n",
       "    <tr>\n",
       "      <th>5</th>\n",
       "      <td>marklevinshow amazing how maga doesnt care tru...</td>\n",
       "    </tr>\n",
       "    <tr>\n",
       "      <th>...</th>\n",
       "      <td>...</td>\n",
       "    </tr>\n",
       "    <tr>\n",
       "      <th>9995</th>\n",
       "      <td>rico case for trump may be a little less unlik...</td>\n",
       "    </tr>\n",
       "    <tr>\n",
       "      <th>9996</th>\n",
       "      <td>papitrumpo yes i cannot wait ill be so happy t...</td>\n",
       "    </tr>\n",
       "    <tr>\n",
       "      <th>9998</th>\n",
       "      <td>reptroynehls but a husband is independent of h...</td>\n",
       "    </tr>\n",
       "    <tr>\n",
       "      <th>9999</th>\n",
       "      <td>patriotmary all he wants to do is keep trump out</td>\n",
       "    </tr>\n",
       "    <tr>\n",
       "      <th>10000</th>\n",
       "      <td>leaguetruth atticusgf also by relying on ivank...</td>\n",
       "    </tr>\n",
       "  </tbody>\n",
       "</table>\n",
       "<p>9357 rows × 1 columns</p>\n",
       "</div>"
      ],
      "text/plain": [
       "                                                    text\n",
       "0      michael_usa trump got so much of the stuff don...\n",
       "1                             atensnut never pence trump\n",
       "2      repthomasmassie trumps balls just shrivelled u...\n",
       "4      ann_tressler ckenchington ladbible try it you ...\n",
       "5      marklevinshow amazing how maga doesnt care tru...\n",
       "...                                                  ...\n",
       "9995   rico case for trump may be a little less unlik...\n",
       "9996   papitrumpo yes i cannot wait ill be so happy t...\n",
       "9998   reptroynehls but a husband is independent of h...\n",
       "9999    patriotmary all he wants to do is keep trump out\n",
       "10000  leaguetruth atticusgf also by relying on ivank...\n",
       "\n",
       "[9357 rows x 1 columns]"
      ]
     },
     "execution_count": 23,
     "metadata": {},
     "output_type": "execute_result"
    }
   ],
   "source": [
    "txt"
   ]
  },
  {
   "cell_type": "code",
   "execution_count": 28,
   "id": "189458de",
   "metadata": {},
   "outputs": [],
   "source": [
    "from nltk.stem.snowball import SnowballStemmer\n",
    "stemmer = SnowballStemmer(\"english\")"
   ]
  },
  {
   "cell_type": "code",
   "execution_count": 29,
   "id": "10ce397f",
   "metadata": {},
   "outputs": [
    {
     "name": "stderr",
     "output_type": "stream",
     "text": [
      "C:\\Users\\User\\AppData\\Local\\Temp\\ipykernel_10588\\4231558430.py:2: SettingWithCopyWarning: \n",
      "A value is trying to be set on a copy of a slice from a DataFrame.\n",
      "Try using .loc[row_indexer,col_indexer] = value instead\n",
      "\n",
      "See the caveats in the documentation: https://pandas.pydata.org/pandas-docs/stable/user_guide/indexing.html#returning-a-view-versus-a-copy\n",
      "  txt['text'] = txt['text'].apply(lambda x: stemmer.stem(x)) # Stem every word.\n"
     ]
    }
   ],
   "source": [
    "# txt['text'] = txt['text'].apply(lambda x: [stemmer.stem(y) for y in x]) # Stem every word.\n",
    "txt['text'] = txt['text'].apply(lambda x: stemmer.stem(x)) # Stem every word."
   ]
  },
  {
   "cell_type": "code",
   "execution_count": 30,
   "id": "c695913f",
   "metadata": {},
   "outputs": [
    {
     "data": {
      "text/html": [
       "<div>\n",
       "<style scoped>\n",
       "    .dataframe tbody tr th:only-of-type {\n",
       "        vertical-align: middle;\n",
       "    }\n",
       "\n",
       "    .dataframe tbody tr th {\n",
       "        vertical-align: top;\n",
       "    }\n",
       "\n",
       "    .dataframe thead th {\n",
       "        text-align: right;\n",
       "    }\n",
       "</style>\n",
       "<table border=\"1\" class=\"dataframe\">\n",
       "  <thead>\n",
       "    <tr style=\"text-align: right;\">\n",
       "      <th></th>\n",
       "      <th>text</th>\n",
       "    </tr>\n",
       "  </thead>\n",
       "  <tbody>\n",
       "    <tr>\n",
       "      <th>0</th>\n",
       "      <td>michael_usa trump got so much of the stuff don...</td>\n",
       "    </tr>\n",
       "    <tr>\n",
       "      <th>1</th>\n",
       "      <td>atensnut never pence trump</td>\n",
       "    </tr>\n",
       "    <tr>\n",
       "      <th>2</th>\n",
       "      <td>repthomasmassie trumps balls just shrivelled u...</td>\n",
       "    </tr>\n",
       "    <tr>\n",
       "      <th>4</th>\n",
       "      <td>ann_tressler ckenchington ladbible try it you ...</td>\n",
       "    </tr>\n",
       "    <tr>\n",
       "      <th>5</th>\n",
       "      <td>marklevinshow amazing how maga doesnt care tru...</td>\n",
       "    </tr>\n",
       "    <tr>\n",
       "      <th>...</th>\n",
       "      <td>...</td>\n",
       "    </tr>\n",
       "    <tr>\n",
       "      <th>9995</th>\n",
       "      <td>rico case for trump may be a little less unlik...</td>\n",
       "    </tr>\n",
       "    <tr>\n",
       "      <th>9996</th>\n",
       "      <td>papitrumpo yes i cannot wait ill be so happy t...</td>\n",
       "    </tr>\n",
       "    <tr>\n",
       "      <th>9998</th>\n",
       "      <td>reptroynehls but a husband is independent of h...</td>\n",
       "    </tr>\n",
       "    <tr>\n",
       "      <th>9999</th>\n",
       "      <td>patriotmary all he wants to do is keep trump out</td>\n",
       "    </tr>\n",
       "    <tr>\n",
       "      <th>10000</th>\n",
       "      <td>leaguetruth atticusgf also by relying on ivank...</td>\n",
       "    </tr>\n",
       "  </tbody>\n",
       "</table>\n",
       "<p>9357 rows × 1 columns</p>\n",
       "</div>"
      ],
      "text/plain": [
       "                                                    text\n",
       "0      michael_usa trump got so much of the stuff don...\n",
       "1                             atensnut never pence trump\n",
       "2      repthomasmassie trumps balls just shrivelled u...\n",
       "4      ann_tressler ckenchington ladbible try it you ...\n",
       "5      marklevinshow amazing how maga doesnt care tru...\n",
       "...                                                  ...\n",
       "9995   rico case for trump may be a little less unlik...\n",
       "9996   papitrumpo yes i cannot wait ill be so happy t...\n",
       "9998   reptroynehls but a husband is independent of h...\n",
       "9999    patriotmary all he wants to do is keep trump out\n",
       "10000  leaguetruth atticusgf also by relying on ivank...\n",
       "\n",
       "[9357 rows x 1 columns]"
      ]
     },
     "execution_count": 30,
     "metadata": {},
     "output_type": "execute_result"
    }
   ],
   "source": [
    "txt"
   ]
  },
  {
   "cell_type": "code",
   "execution_count": 31,
   "id": "d4fd9578",
   "metadata": {},
   "outputs": [
    {
     "data": {
      "text/plain": [
       "'marklevinshow amazing how maga doesnt care trump had  campaign manager indicted andor found guilty of sex trafficking children'"
      ]
     },
     "execution_count": 31,
     "metadata": {},
     "output_type": "execute_result"
    }
   ],
   "source": [
    "txt.text[5]"
   ]
  },
  {
   "cell_type": "code",
   "execution_count": 32,
   "id": "f2765538",
   "metadata": {},
   "outputs": [],
   "source": [
    "from textblob import TextBlob"
   ]
  },
  {
   "cell_type": "code",
   "execution_count": 33,
   "id": "b3d724ba",
   "metadata": {},
   "outputs": [],
   "source": [
    "def sentiment_detect(text):\n",
    "    return TextBlob(text).sentiment.polarity"
   ]
  },
  {
   "cell_type": "code",
   "execution_count": 34,
   "id": "d55728a8",
   "metadata": {},
   "outputs": [
    {
     "name": "stderr",
     "output_type": "stream",
     "text": [
      "C:\\Users\\User\\AppData\\Local\\Temp\\ipykernel_10588\\1815911671.py:1: SettingWithCopyWarning: \n",
      "A value is trying to be set on a copy of a slice from a DataFrame.\n",
      "Try using .loc[row_indexer,col_indexer] = value instead\n",
      "\n",
      "See the caveats in the documentation: https://pandas.pydata.org/pandas-docs/stable/user_guide/indexing.html#returning-a-view-versus-a-copy\n",
      "  txt[\"sentiment\"] = txt[\"text\"].apply(sentiment_detect)\n"
     ]
    }
   ],
   "source": [
    "txt[\"sentiment\"] = txt[\"text\"].apply(sentiment_detect)"
   ]
  },
  {
   "cell_type": "code",
   "execution_count": 35,
   "id": "8d3995cd",
   "metadata": {},
   "outputs": [
    {
     "data": {
      "text/html": [
       "<div>\n",
       "<style scoped>\n",
       "    .dataframe tbody tr th:only-of-type {\n",
       "        vertical-align: middle;\n",
       "    }\n",
       "\n",
       "    .dataframe tbody tr th {\n",
       "        vertical-align: top;\n",
       "    }\n",
       "\n",
       "    .dataframe thead th {\n",
       "        text-align: right;\n",
       "    }\n",
       "</style>\n",
       "<table border=\"1\" class=\"dataframe\">\n",
       "  <thead>\n",
       "    <tr style=\"text-align: right;\">\n",
       "      <th></th>\n",
       "      <th>text</th>\n",
       "      <th>sentiment</th>\n",
       "    </tr>\n",
       "  </thead>\n",
       "  <tbody>\n",
       "    <tr>\n",
       "      <th>0</th>\n",
       "      <td>michael_usa trump got so much of the stuff don...</td>\n",
       "      <td>0.200000</td>\n",
       "    </tr>\n",
       "    <tr>\n",
       "      <th>1</th>\n",
       "      <td>atensnut never pence trump</td>\n",
       "      <td>0.000000</td>\n",
       "    </tr>\n",
       "    <tr>\n",
       "      <th>2</th>\n",
       "      <td>repthomasmassie trumps balls just shrivelled u...</td>\n",
       "      <td>0.000000</td>\n",
       "    </tr>\n",
       "    <tr>\n",
       "      <th>4</th>\n",
       "      <td>ann_tressler ckenchington ladbible try it you ...</td>\n",
       "      <td>0.000000</td>\n",
       "    </tr>\n",
       "    <tr>\n",
       "      <th>5</th>\n",
       "      <td>marklevinshow amazing how maga doesnt care tru...</td>\n",
       "      <td>0.050000</td>\n",
       "    </tr>\n",
       "    <tr>\n",
       "      <th>...</th>\n",
       "      <td>...</td>\n",
       "      <td>...</td>\n",
       "    </tr>\n",
       "    <tr>\n",
       "      <th>9995</th>\n",
       "      <td>rico case for trump may be a little less unlik...</td>\n",
       "      <td>-0.072132</td>\n",
       "    </tr>\n",
       "    <tr>\n",
       "      <th>9996</th>\n",
       "      <td>papitrumpo yes i cannot wait ill be so happy t...</td>\n",
       "      <td>0.150000</td>\n",
       "    </tr>\n",
       "    <tr>\n",
       "      <th>9998</th>\n",
       "      <td>reptroynehls but a husband is independent of h...</td>\n",
       "      <td>0.142857</td>\n",
       "    </tr>\n",
       "    <tr>\n",
       "      <th>9999</th>\n",
       "      <td>patriotmary all he wants to do is keep trump out</td>\n",
       "      <td>0.200000</td>\n",
       "    </tr>\n",
       "    <tr>\n",
       "      <th>10000</th>\n",
       "      <td>leaguetruth atticusgf also by relying on ivank...</td>\n",
       "      <td>0.000000</td>\n",
       "    </tr>\n",
       "  </tbody>\n",
       "</table>\n",
       "<p>9357 rows × 2 columns</p>\n",
       "</div>"
      ],
      "text/plain": [
       "                                                    text  sentiment\n",
       "0      michael_usa trump got so much of the stuff don...   0.200000\n",
       "1                             atensnut never pence trump   0.000000\n",
       "2      repthomasmassie trumps balls just shrivelled u...   0.000000\n",
       "4      ann_tressler ckenchington ladbible try it you ...   0.000000\n",
       "5      marklevinshow amazing how maga doesnt care tru...   0.050000\n",
       "...                                                  ...        ...\n",
       "9995   rico case for trump may be a little less unlik...  -0.072132\n",
       "9996   papitrumpo yes i cannot wait ill be so happy t...   0.150000\n",
       "9998   reptroynehls but a husband is independent of h...   0.142857\n",
       "9999    patriotmary all he wants to do is keep trump out   0.200000\n",
       "10000  leaguetruth atticusgf also by relying on ivank...   0.000000\n",
       "\n",
       "[9357 rows x 2 columns]"
      ]
     },
     "execution_count": 35,
     "metadata": {},
     "output_type": "execute_result"
    }
   ],
   "source": [
    "txt"
   ]
  },
  {
   "cell_type": "code",
   "execution_count": 36,
   "id": "dcb53b0b",
   "metadata": {},
   "outputs": [],
   "source": [
    "import nltk \n",
    "from nltk import word_tokenize"
   ]
  },
  {
   "cell_type": "code",
   "execution_count": 37,
   "id": "41a5eb31",
   "metadata": {},
   "outputs": [],
   "source": [
    "#txt['text'] = txt['text'].apply(lambda x: nltk.word_tokenize(x))    # Tokenize yaptığımda hata alıyorum."
   ]
  },
  {
   "cell_type": "code",
   "execution_count": 38,
   "id": "baaf50b6",
   "metadata": {},
   "outputs": [
    {
     "data": {
      "text/html": [
       "<div>\n",
       "<style scoped>\n",
       "    .dataframe tbody tr th:only-of-type {\n",
       "        vertical-align: middle;\n",
       "    }\n",
       "\n",
       "    .dataframe tbody tr th {\n",
       "        vertical-align: top;\n",
       "    }\n",
       "\n",
       "    .dataframe thead th {\n",
       "        text-align: right;\n",
       "    }\n",
       "</style>\n",
       "<table border=\"1\" class=\"dataframe\">\n",
       "  <thead>\n",
       "    <tr style=\"text-align: right;\">\n",
       "      <th></th>\n",
       "      <th>text</th>\n",
       "      <th>sentiment</th>\n",
       "    </tr>\n",
       "  </thead>\n",
       "  <tbody>\n",
       "    <tr>\n",
       "      <th>0</th>\n",
       "      <td>michael_usa trump got so much of the stuff don...</td>\n",
       "      <td>0.200000</td>\n",
       "    </tr>\n",
       "    <tr>\n",
       "      <th>1</th>\n",
       "      <td>atensnut never pence trump</td>\n",
       "      <td>0.000000</td>\n",
       "    </tr>\n",
       "    <tr>\n",
       "      <th>2</th>\n",
       "      <td>repthomasmassie trumps balls just shrivelled u...</td>\n",
       "      <td>0.000000</td>\n",
       "    </tr>\n",
       "    <tr>\n",
       "      <th>4</th>\n",
       "      <td>ann_tressler ckenchington ladbible try it you ...</td>\n",
       "      <td>0.000000</td>\n",
       "    </tr>\n",
       "    <tr>\n",
       "      <th>5</th>\n",
       "      <td>marklevinshow amazing how maga doesnt care tru...</td>\n",
       "      <td>0.050000</td>\n",
       "    </tr>\n",
       "    <tr>\n",
       "      <th>...</th>\n",
       "      <td>...</td>\n",
       "      <td>...</td>\n",
       "    </tr>\n",
       "    <tr>\n",
       "      <th>9995</th>\n",
       "      <td>rico case for trump may be a little less unlik...</td>\n",
       "      <td>-0.072132</td>\n",
       "    </tr>\n",
       "    <tr>\n",
       "      <th>9996</th>\n",
       "      <td>papitrumpo yes i cannot wait ill be so happy t...</td>\n",
       "      <td>0.150000</td>\n",
       "    </tr>\n",
       "    <tr>\n",
       "      <th>9998</th>\n",
       "      <td>reptroynehls but a husband is independent of h...</td>\n",
       "      <td>0.142857</td>\n",
       "    </tr>\n",
       "    <tr>\n",
       "      <th>9999</th>\n",
       "      <td>patriotmary all he wants to do is keep trump out</td>\n",
       "      <td>0.200000</td>\n",
       "    </tr>\n",
       "    <tr>\n",
       "      <th>10000</th>\n",
       "      <td>leaguetruth atticusgf also by relying on ivank...</td>\n",
       "      <td>0.000000</td>\n",
       "    </tr>\n",
       "  </tbody>\n",
       "</table>\n",
       "<p>9357 rows × 2 columns</p>\n",
       "</div>"
      ],
      "text/plain": [
       "                                                    text  sentiment\n",
       "0      michael_usa trump got so much of the stuff don...   0.200000\n",
       "1                             atensnut never pence trump   0.000000\n",
       "2      repthomasmassie trumps balls just shrivelled u...   0.000000\n",
       "4      ann_tressler ckenchington ladbible try it you ...   0.000000\n",
       "5      marklevinshow amazing how maga doesnt care tru...   0.050000\n",
       "...                                                  ...        ...\n",
       "9995   rico case for trump may be a little less unlik...  -0.072132\n",
       "9996   papitrumpo yes i cannot wait ill be so happy t...   0.150000\n",
       "9998   reptroynehls but a husband is independent of h...   0.142857\n",
       "9999    patriotmary all he wants to do is keep trump out   0.200000\n",
       "10000  leaguetruth atticusgf also by relying on ivank...   0.000000\n",
       "\n",
       "[9357 rows x 2 columns]"
      ]
     },
     "execution_count": 38,
     "metadata": {},
     "output_type": "execute_result"
    }
   ],
   "source": [
    "txt"
   ]
  },
  {
   "cell_type": "code",
   "execution_count": 39,
   "id": "e48d20af",
   "metadata": {},
   "outputs": [],
   "source": [
    "from sklearn.feature_extraction.text import CountVectorizer, TfidfVectorizer "
   ]
  },
  {
   "cell_type": "code",
   "execution_count": 40,
   "id": "e63498ce",
   "metadata": {},
   "outputs": [],
   "source": [
    "vect = CountVectorizer(lowercase = True,stop_words = \"english\", ngram_range =(1,1))"
   ]
  },
  {
   "cell_type": "code",
   "execution_count": 41,
   "id": "6a1d80ff",
   "metadata": {},
   "outputs": [],
   "source": [
    "x = vect.fit_transform(txt[\"text\"])"
   ]
  },
  {
   "cell_type": "code",
   "execution_count": 42,
   "id": "8788bed2",
   "metadata": {},
   "outputs": [],
   "source": [
    "def tweet_text(score):\n",
    "    if score > 0.2:\n",
    "        return 1\n",
    "    elif score < -0.2:\n",
    "        return 2\n",
    "    else:\n",
    "        return 0 "
   ]
  },
  {
   "cell_type": "code",
   "execution_count": 43,
   "id": "a1a2893d",
   "metadata": {},
   "outputs": [
    {
     "name": "stderr",
     "output_type": "stream",
     "text": [
      "C:\\Users\\User\\AppData\\Local\\Temp\\ipykernel_10588\\1937458812.py:1: SettingWithCopyWarning: \n",
      "A value is trying to be set on a copy of a slice from a DataFrame.\n",
      "Try using .loc[row_indexer,col_indexer] = value instead\n",
      "\n",
      "See the caveats in the documentation: https://pandas.pydata.org/pandas-docs/stable/user_guide/indexing.html#returning-a-view-versus-a-copy\n",
      "  txt[\"class\"] = txt[\"sentiment\"].apply(tweet_text)\n"
     ]
    }
   ],
   "source": [
    "txt[\"class\"] = txt[\"sentiment\"].apply(tweet_text)"
   ]
  },
  {
   "cell_type": "code",
   "execution_count": 44,
   "id": "a065186f",
   "metadata": {},
   "outputs": [],
   "source": [
    "y = txt[\"class\"]"
   ]
  },
  {
   "cell_type": "code",
   "execution_count": 45,
   "id": "dd4d11d1",
   "metadata": {},
   "outputs": [],
   "source": [
    "from sklearn.naive_bayes import MultinomialNB\n",
    "from sklearn.metrics import accuracy_score, confusion_matrix\n",
    "from sklearn.model_selection import train_test_split "
   ]
  },
  {
   "cell_type": "code",
   "execution_count": 46,
   "id": "d53d5af6",
   "metadata": {},
   "outputs": [],
   "source": [
    "x_train, x_test, y_train, y_test, = train_test_split(x,y,test_size = 0.2, random_state = 42)"
   ]
  },
  {
   "cell_type": "code",
   "execution_count": 47,
   "id": "f64e96a7",
   "metadata": {},
   "outputs": [],
   "source": [
    "nb = MultinomialNB()"
   ]
  },
  {
   "cell_type": "code",
   "execution_count": 48,
   "id": "9117168f",
   "metadata": {},
   "outputs": [
    {
     "data": {
      "text/plain": [
       "MultinomialNB()"
      ]
     },
     "execution_count": 48,
     "metadata": {},
     "output_type": "execute_result"
    }
   ],
   "source": [
    "nb.fit(x_train, y_train)"
   ]
  },
  {
   "cell_type": "code",
   "execution_count": 49,
   "id": "7344b6b1",
   "metadata": {},
   "outputs": [],
   "source": [
    "tahmin = nb.predict(x_test)"
   ]
  },
  {
   "cell_type": "code",
   "execution_count": 50,
   "id": "ab56d459",
   "metadata": {},
   "outputs": [
    {
     "data": {
      "text/plain": [
       "0.6810897435897436"
      ]
     },
     "execution_count": 50,
     "metadata": {},
     "output_type": "execute_result"
    }
   ],
   "source": [
    "accuracy_score(tahmin, y_test)"
   ]
  },
  {
   "cell_type": "code",
   "execution_count": 51,
   "id": "a48a113f",
   "metadata": {},
   "outputs": [],
   "source": [
    "from sklearn.linear_model import LogisticRegression"
   ]
  },
  {
   "cell_type": "code",
   "execution_count": 52,
   "id": "a670a9a2",
   "metadata": {},
   "outputs": [],
   "source": [
    "l = LogisticRegression()"
   ]
  },
  {
   "cell_type": "code",
   "execution_count": 58,
   "id": "bfa90a57",
   "metadata": {},
   "outputs": [
    {
     "name": "stderr",
     "output_type": "stream",
     "text": [
      "C:\\Users\\User\\AppData\\Roaming\\Python\\Python38\\site-packages\\sklearn\\linear_model\\_logistic.py:762: ConvergenceWarning: lbfgs failed to converge (status=1):\n",
      "STOP: TOTAL NO. of ITERATIONS REACHED LIMIT.\n",
      "\n",
      "Increase the number of iterations (max_iter) or scale the data as shown in:\n",
      "    https://scikit-learn.org/stable/modules/preprocessing.html\n",
      "Please also refer to the documentation for alternative solver options:\n",
      "    https://scikit-learn.org/stable/modules/linear_model.html#logistic-regression\n",
      "  n_iter_i = _check_optimize_result(\n"
     ]
    },
    {
     "data": {
      "text/plain": [
       "LogisticRegression()"
      ]
     },
     "execution_count": 58,
     "metadata": {},
     "output_type": "execute_result"
    }
   ],
   "source": [
    "l.fit(x_train, y_train)"
   ]
  },
  {
   "cell_type": "code",
   "execution_count": 59,
   "id": "9b592a64",
   "metadata": {},
   "outputs": [],
   "source": [
    "tahmin2 = l.predict(x_test)"
   ]
  },
  {
   "cell_type": "code",
   "execution_count": 62,
   "id": "0647df85",
   "metadata": {},
   "outputs": [
    {
     "data": {
      "text/plain": [
       "0.7430555555555556"
      ]
     },
     "execution_count": 62,
     "metadata": {},
     "output_type": "execute_result"
    }
   ],
   "source": [
    "accuracy_score(tahmin2, y_test)"
   ]
  },
  {
   "cell_type": "code",
   "execution_count": 63,
   "id": "c39e83ff",
   "metadata": {},
   "outputs": [
    {
     "data": {
      "text/plain": [
       "(9357, 25816)"
      ]
     },
     "execution_count": 63,
     "metadata": {},
     "output_type": "execute_result"
    }
   ],
   "source": [
    "x.shape"
   ]
  },
  {
   "cell_type": "code",
   "execution_count": 64,
   "id": "62019ab2",
   "metadata": {},
   "outputs": [
    {
     "data": {
      "text/plain": [
       "'pence is such a loser no one would even know who he is without trumpexclusive  from a democrat to a conservative vice president mike pence details journey in american politics httpstcoytcksudlig via breitbartnew'"
      ]
     },
     "execution_count": 64,
     "metadata": {},
     "output_type": "execute_result"
    }
   ],
   "source": [
    "txt.text[115]"
   ]
  },
  {
   "cell_type": "code",
   "execution_count": null,
   "id": "ebdf962a",
   "metadata": {},
   "outputs": [],
   "source": []
  }
 ],
 "metadata": {
  "kernelspec": {
   "display_name": "Python 3 (ipykernel)",
   "language": "python",
   "name": "python3"
  },
  "language_info": {
   "codemirror_mode": {
    "name": "ipython",
    "version": 3
   },
   "file_extension": ".py",
   "mimetype": "text/x-python",
   "name": "python",
   "nbconvert_exporter": "python",
   "pygments_lexer": "ipython3",
   "version": "3.9.12"
  }
 },
 "nbformat": 4,
 "nbformat_minor": 5
}
